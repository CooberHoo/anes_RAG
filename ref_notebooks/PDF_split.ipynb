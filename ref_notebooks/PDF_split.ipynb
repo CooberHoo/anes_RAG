{
 "cells": [
  {
   "cell_type": "code",
   "execution_count": 7,
   "id": "c8d2a760-a423-4617-8c43-63b15a4d4dde",
   "metadata": {},
   "outputs": [],
   "source": [
    "from pypdf import PdfReader, PdfWriter\n",
    "\n",
    "def pdf_split(file_path, page_start, page_end):\n",
    "    pages = (page_start, page_end)\n",
    "\n",
    "    reader = PdfReader(file_path)\n",
    "    writer = PdfWriter()\n",
    "    page_range = range(pages[0], pages[1] + 1)\n",
    "\n",
    "    for page_num, page in enumerate(reader.pages, 1):\n",
    "        if page_num in page_range:\n",
    "            writer.add_page(page)\n",
    "\n",
    "    with open(f'{file_path}_page_{pages[0]}-{pages[1]}.pdf', 'wb') as out:\n",
    "        writer.write(out)\n",
    "\n",
    "\n",
    "pdf_split(\"../resources/miller_anes_10.pdf\", 25, 77)"
   ]
  },
  {
   "cell_type": "code",
   "execution_count": null,
   "id": "236e7d34-5092-4945-80d1-a20a33cbb572",
   "metadata": {},
   "outputs": [],
   "source": []
  }
 ],
 "metadata": {
  "kernelspec": {
   "display_name": "Python (anes_rag)",
   "language": "python",
   "name": "anes_rag"
  },
  "language_info": {
   "codemirror_mode": {
    "name": "ipython",
    "version": 3
   },
   "file_extension": ".py",
   "mimetype": "text/x-python",
   "name": "python",
   "nbconvert_exporter": "python",
   "pygments_lexer": "ipython3",
   "version": "3.13.5"
  }
 },
 "nbformat": 4,
 "nbformat_minor": 5
}
