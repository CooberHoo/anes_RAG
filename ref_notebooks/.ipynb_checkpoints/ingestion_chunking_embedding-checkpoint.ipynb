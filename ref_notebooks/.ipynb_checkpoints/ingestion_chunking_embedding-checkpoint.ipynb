{
 "cells": [
  {
   "cell_type": "code",
   "execution_count": 1,
   "id": "4cea625b-61eb-489c-9679-d0e7d4144657",
   "metadata": {},
   "outputs": [
    {
     "name": "stdout",
     "output_type": "stream",
     "text": [
      "hello world\n",
      "checkpoint1\n",
      "checkpoint\n",
      "Loaded 3269 pages of text from ../resources/miller_anes_10.pdf\n"
     ]
    }
   ],
   "source": [
    "import re\n",
    "import json\n",
    "from pathlib import Path\n",
    "from collections import Counter\n",
    "from pypdf import PdfReader\n",
    "\n",
    "print(\"hello world\")\n",
    "\n",
    "PDF_PATH = \"../resources/miller_anes_10.pdf\"\n",
    "OUTPUT_JSON = \"../resources/cleaned_miller.json\"\n",
    "\n",
    "#load PDF\n",
    "reader = PdfReader(PDF_PATH)\n",
    "#print(\"checkpoint1\")\n",
    "\n",
    "#raw text per page extraction\n",
    "#this step takes 10 minutes to run\n",
    "raw_pages = [page.extract_text() for page in reader.pages]\n",
    "\n",
    "#print(\"checkpoint2\")\n",
    "\n",
    "#remove blank pages\n",
    "raw_pages = [p for p in raw_pages if p and len(p.strip()) > 20]\n",
    "print(f\"Loaded {len(raw_pages)} pages of text from {PDF_PATH}\")"
   ]
  },
  {
   "cell_type": "code",
   "execution_count": 3,
   "id": "507057ab-313d-4bd1-a6a2-933dba78f697",
   "metadata": {},
   "outputs": [],
   "source": [
    "#Cleaning function\n",
    "def clean_page_text(text):\n",
    "    \"\"\"\n",
    "    Cleans a single page of PDF text by:\n",
    "    1. Removing standalone page numbers\n",
    "    2. Fixing hyphenated line breaks\n",
    "    3. Joining broken sentences across lines\n",
    "    4. Collapsing multiple spaces/newlines\n",
    "    \"\"\"\n",
    "    # Remove standalone page numbers (e.g., \"123\" or \"- 123 -\")\n",
    "    text = re.sub(r\"\\n?\\s*-?\\s*\\d+\\s*-?\\s*\\n?\", \"\\n\", text)\n",
    "\n",
    "    # Fix hyphenated words broken across lines\n",
    "    text = re.sub(r\"(\\w+)-\\n(\\w+)\", r\"\\1\\2\", text)\n",
    "\n",
    "    # Replace single line breaks in sentences with spaces\n",
    "    text = re.sub(r\"(?<!\\n)\\n(?!\\n)\", \" \", text)\n",
    "\n",
    "    # Collapse multiple newlines into paragraph breaks\n",
    "    text = re.sub(r\"\\n\\s*\\n+\", \"\\n\\n\", text)\n",
    "\n",
    "    # Collapse multiple spaces\n",
    "    text = re.sub(r\"[ \\t]+\", \" \", text)\n",
    "\n",
    "    return text.strip()\n",
    "\n",
    "clean_pages = [clean_page_text(p) for p in raw_pages]\n",
    "    "
   ]
  },
  {
   "cell_type": "code",
   "execution_count": 4,
   "id": "9fd40ffb-07e6-46ae-8474-b767a4122260",
   "metadata": {},
   "outputs": [],
   "source": [
    "#Remove common headers and footers\n",
    "\n",
    "#detect repeated first lines\n",
    "headers = [p.split(\"\\n\")[0].strip() for p in clean_pages if p]\n",
    "common_headers = [h for h, c in Counter(headers).items() if c > 5 and len(h) > 0]\n",
    "\n",
    "#Function to remove headers/footers\n",
    "def remove_headers_footers(page):\n",
    "    for header in common_headers:\n",
    "        page = page.replace(header, \"\")\n",
    "    return page.strip()\n",
    "\n",
    "clean_pages = [remove_headers_footers(p) for p in clean_pages]"
   ]
  },
  {
   "cell_type": "code",
   "execution_count": 5,
   "id": "9d93bf5e-d2ae-4e6b-af73-b8e73a657aa8",
   "metadata": {},
   "outputs": [],
   "source": [
    "full_text = \"\\n\\n\".join(clean_pages)\n",
    "with open(\"cleaned_text.txt\", \"w\", encoding=\"utf-8\") as f:\n",
    "    f.write(full_text)"
   ]
  },
  {
   "cell_type": "code",
   "execution_count": null,
   "id": "c64bd3c3-1fea-401b-a558-9f94449d8729",
   "metadata": {},
   "outputs": [],
   "source": []
  }
 ],
 "metadata": {
  "kernelspec": {
   "display_name": "Python (anes_rag)",
   "language": "python",
   "name": "anes_rag"
  },
  "language_info": {
   "codemirror_mode": {
    "name": "ipython",
    "version": 3
   },
   "file_extension": ".py",
   "mimetype": "text/x-python",
   "name": "python",
   "nbconvert_exporter": "python",
   "pygments_lexer": "ipython3",
   "version": "3.13.5"
  }
 },
 "nbformat": 4,
 "nbformat_minor": 5
}
