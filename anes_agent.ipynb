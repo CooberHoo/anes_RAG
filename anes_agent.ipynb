{
  "nbformat": 4,
  "nbformat_minor": 0,
  "metadata": {
    "colab": {
      "provenance": [],
      "authorship_tag": "ABX9TyMWb0PqioekfXKglYx1Yy3P",
      "include_colab_link": true
    },
    "kernelspec": {
      "name": "python3",
      "display_name": "Python 3"
    },
    "language_info": {
      "name": "python"
    }
  },
  "cells": [
    {
      "cell_type": "markdown",
      "metadata": {
        "id": "view-in-github",
        "colab_type": "text"
      },
      "source": [
        "<a href=\"https://colab.research.google.com/github/CooberHoo/anes_RAG/blob/main/anes_agent.ipynb\" target=\"_parent\"><img src=\"https://colab.research.google.com/assets/colab-badge.svg\" alt=\"Open In Colab\"/></a>"
      ]
    },
    {
      "cell_type": "code",
      "execution_count": 6,
      "metadata": {
        "colab": {
          "base_uri": "https://localhost:8080/"
        },
        "id": "MyZvhU2a_8vN",
        "outputId": "7e4a7583-e9e0-4f07-a31b-f97af305f13a"
      },
      "outputs": [
        {
          "output_type": "stream",
          "name": "stdout",
          "text": [
            "Drive already mounted at /content/drive; to attempt to forcibly remount, call drive.mount(\"/content/drive\", force_remount=True).\n",
            "Cloning into 'anes_RAG'...\n",
            "remote: Enumerating objects: 14, done.\u001b[K\n",
            "remote: Counting objects: 100% (14/14), done.\u001b[K\n",
            "remote: Compressing objects: 100% (10/10), done.\u001b[K\n",
            "remote: Total 14 (delta 3), reused 11 (delta 3), pack-reused 0 (from 0)\u001b[K\n",
            "Receiving objects: 100% (14/14), 893.40 KiB | 6.00 MiB/s, done.\n",
            "Resolving deltas: 100% (3/3), done.\n"
          ]
        }
      ],
      "source": [
        "from google.colab import drive\n",
        "drive.mount('/content/drive')  # Optional if you want it persisted on Drive\n",
        "\n",
        "# Clone directly into Colab VM\n",
        "!git clone https://github.com/CooberHoo/anes_RAG.git\n"
      ]
    },
    {
      "cell_type": "code",
      "source": [
        "!git config --global user.email \"qinghaol2525@gmail.com\"\n",
        "!git config --global user.name \"CooberHoo\""
      ],
      "metadata": {
        "id": "SRsuJfLkAt7o"
      },
      "execution_count": 7,
      "outputs": []
    },
    {
      "cell_type": "code",
      "source": [
        "%cd /content/anes_RAG/\n",
        "!git pull origin main"
      ],
      "metadata": {
        "id": "x_ngKVK2DX9X"
      },
      "execution_count": null,
      "outputs": []
    }
  ]
}